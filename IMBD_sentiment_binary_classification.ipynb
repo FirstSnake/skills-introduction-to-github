{
  "cells": [
    {
      "cell_type": "markdown",
      "metadata": {
        "id": "view-in-github",
        "colab_type": "text"
      },
      "source": [
        "<a href=\"https://colab.research.google.com/github/FirstSnake/skills-introduction-to-github/blob/main/IMBD_sentiment_binary_classification.ipynb\" target=\"_parent\"><img src=\"https://colab.research.google.com/assets/colab-badge.svg\" alt=\"Open In Colab\"/></a>"
      ]
    },
    {
      "cell_type": "markdown",
      "metadata": {
        "id": "NQBQNHmpoyVf"
      },
      "source": [
        "It is highly recommended to use a powerful **GPU**, you can use it for free uploading this notebook to [Google Colab](https://colab.research.google.com/notebooks/intro.ipynb).\n",
        "<table align=\"center\">\n",
        " <td align=\"center\"><a target=\"_blank\" href=\"https://colab.research.google.com/github/ezponda/intro_deep_learning/blob/main/class/Fundamentals/IMBD_sentiment_binary_classification.ipynb\">\n",
        "        <img src=\"https://colab.research.google.com/img/colab_favicon_256px.png\"  width=\"50\" height=\"50\" style=\"padding-bottom:5px;\" />Run in Google Colab</a></td>\n",
        "  <td align=\"center\"><a target=\"_blank\" href=\"https://github.com/ezponda/intro_deep_learning/blob/main/class/Fundamentals/IMBD_sentiment_binary_classification.ipynb\">\n",
        "        <img src=\"https://github.githubassets.com/images/modules/logos_page/GitHub-Mark.png\"  width=\"50\" height=\"50\" style=\"padding-bottom:5px;\" />View Source on GitHub</a></td>\n",
        "</table>"
      ]
    },
    {
      "cell_type": "markdown",
      "metadata": {
        "id": "FOrt9ZTdoyVg"
      },
      "source": [
        "# Classification Example\n",
        " Two-class classification, or binary classification, may be the most widely applied kind of machine-learning problem. In this example, you’ll learn to classify movie reviews as positive or negative, based on the text content of the reviews.\n"
      ]
    },
    {
      "cell_type": "code",
      "execution_count": 2,
      "metadata": {
        "id": "PAaCMRDwoyVg"
      },
      "outputs": [],
      "source": [
        "import tensorflow as tf\n",
        "from tensorflow import keras\n",
        "from tensorflow.keras import layers\n",
        "import numpy as np\n",
        "tf.random.set_seed(0)"
      ]
    },
    {
      "cell_type": "code",
      "source": [
        "pip install tensorflow\n"
      ],
      "metadata": {
        "colab": {
          "base_uri": "https://localhost:8080/"
        },
        "id": "HZh0x1XARfB_",
        "outputId": "32d66e09-b67d-49c3-da05-aa1866f4085e"
      },
      "execution_count": 2,
      "outputs": [
        {
          "output_type": "stream",
          "name": "stdout",
          "text": [
            "Collecting tensorflow\n",
            "  Downloading tensorflow-2.19.0-cp310-cp310-win_amd64.whl.metadata (4.1 kB)\n",
            "Collecting absl-py>=1.0.0 (from tensorflow)\n",
            "  Downloading absl_py-2.2.2-py3-none-any.whl.metadata (2.6 kB)\n",
            "Collecting astunparse>=1.6.0 (from tensorflow)\n",
            "  Using cached astunparse-1.6.3-py2.py3-none-any.whl.metadata (4.4 kB)\n",
            "Collecting flatbuffers>=24.3.25 (from tensorflow)\n",
            "  Using cached flatbuffers-25.2.10-py2.py3-none-any.whl.metadata (875 bytes)\n",
            "Collecting gast!=0.5.0,!=0.5.1,!=0.5.2,>=0.2.1 (from tensorflow)\n",
            "  Using cached gast-0.6.0-py3-none-any.whl.metadata (1.3 kB)\n",
            "Collecting google-pasta>=0.1.1 (from tensorflow)\n",
            "  Using cached google_pasta-0.2.0-py3-none-any.whl.metadata (814 bytes)\n",
            "Collecting libclang>=13.0.0 (from tensorflow)\n",
            "  Using cached libclang-18.1.1-py2.py3-none-win_amd64.whl.metadata (5.3 kB)\n",
            "Collecting opt-einsum>=2.3.2 (from tensorflow)\n",
            "  Using cached opt_einsum-3.4.0-py3-none-any.whl.metadata (6.3 kB)\n",
            "Requirement already satisfied: packaging in c:\\users\\andre\\anaconda3\\envs\\colab_gpu\\lib\\site-packages (from tensorflow) (24.2)\n",
            "Collecting protobuf!=4.21.0,!=4.21.1,!=4.21.2,!=4.21.3,!=4.21.4,!=4.21.5,<6.0.0dev,>=3.20.3 (from tensorflow)\n",
            "  Downloading protobuf-5.29.4-cp310-abi3-win_amd64.whl.metadata (592 bytes)\n",
            "Requirement already satisfied: requests<3,>=2.21.0 in c:\\users\\andre\\anaconda3\\envs\\colab_gpu\\lib\\site-packages (from tensorflow) (2.32.3)\n",
            "Requirement already satisfied: setuptools in c:\\users\\andre\\anaconda3\\envs\\colab_gpu\\lib\\site-packages (from tensorflow) (75.8.0)\n",
            "Requirement already satisfied: six>=1.12.0 in c:\\users\\andre\\anaconda3\\envs\\colab_gpu\\lib\\site-packages (from tensorflow) (1.17.0)\n",
            "Collecting termcolor>=1.1.0 (from tensorflow)\n",
            "  Using cached termcolor-3.0.1-py3-none-any.whl.metadata (6.1 kB)\n",
            "Requirement already satisfied: typing-extensions>=3.6.6 in c:\\users\\andre\\anaconda3\\envs\\colab_gpu\\lib\\site-packages (from tensorflow) (4.12.2)\n",
            "Collecting wrapt>=1.11.0 (from tensorflow)\n",
            "  Downloading wrapt-1.17.2-cp310-cp310-win_amd64.whl.metadata (6.5 kB)\n",
            "Collecting grpcio<2.0,>=1.24.3 (from tensorflow)\n",
            "  Downloading grpcio-1.71.0-cp310-cp310-win_amd64.whl.metadata (4.0 kB)\n",
            "Collecting tensorboard~=2.19.0 (from tensorflow)\n",
            "  Using cached tensorboard-2.19.0-py3-none-any.whl.metadata (1.8 kB)\n",
            "Collecting keras>=3.5.0 (from tensorflow)\n",
            "  Using cached keras-3.9.2-py3-none-any.whl.metadata (6.1 kB)\n",
            "Requirement already satisfied: numpy<2.2.0,>=1.26.0 in c:\\users\\andre\\anaconda3\\envs\\colab_gpu\\lib\\site-packages (from tensorflow) (2.1.2)\n",
            "Collecting h5py>=3.11.0 (from tensorflow)\n",
            "  Downloading h5py-3.13.0-cp310-cp310-win_amd64.whl.metadata (2.5 kB)\n",
            "Collecting ml-dtypes<1.0.0,>=0.5.1 (from tensorflow)\n",
            "  Downloading ml_dtypes-0.5.1-cp310-cp310-win_amd64.whl.metadata (22 kB)\n",
            "Collecting tensorflow-io-gcs-filesystem>=0.23.1 (from tensorflow)\n",
            "  Downloading tensorflow_io_gcs_filesystem-0.31.0-cp310-cp310-win_amd64.whl.metadata (14 kB)\n",
            "Requirement already satisfied: wheel<1.0,>=0.23.0 in c:\\users\\andre\\anaconda3\\envs\\colab_gpu\\lib\\site-packages (from astunparse>=1.6.0->tensorflow) (0.45.1)\n",
            "Collecting rich (from keras>=3.5.0->tensorflow)\n",
            "  Downloading rich-14.0.0-py3-none-any.whl.metadata (18 kB)\n",
            "Collecting namex (from keras>=3.5.0->tensorflow)\n",
            "  Using cached namex-0.0.8-py3-none-any.whl.metadata (246 bytes)\n",
            "Collecting optree (from keras>=3.5.0->tensorflow)\n",
            "  Downloading optree-0.15.0-cp310-cp310-win_amd64.whl.metadata (49 kB)\n",
            "Requirement already satisfied: charset-normalizer<4,>=2 in c:\\users\\andre\\anaconda3\\envs\\colab_gpu\\lib\\site-packages (from requests<3,>=2.21.0->tensorflow) (3.4.1)\n",
            "Requirement already satisfied: idna<4,>=2.5 in c:\\users\\andre\\anaconda3\\envs\\colab_gpu\\lib\\site-packages (from requests<3,>=2.21.0->tensorflow) (3.10)\n",
            "Requirement already satisfied: urllib3<3,>=1.21.1 in c:\\users\\andre\\anaconda3\\envs\\colab_gpu\\lib\\site-packages (from requests<3,>=2.21.0->tensorflow) (2.3.0)\n",
            "Requirement already satisfied: certifi>=2017.4.17 in c:\\users\\andre\\anaconda3\\envs\\colab_gpu\\lib\\site-packages (from requests<3,>=2.21.0->tensorflow) (2025.1.31)\n",
            "Collecting markdown>=2.6.8 (from tensorboard~=2.19.0->tensorflow)\n",
            "  Downloading Markdown-3.7-py3-none-any.whl.metadata (7.0 kB)\n",
            "Collecting tensorboard-data-server<0.8.0,>=0.7.0 (from tensorboard~=2.19.0->tensorflow)\n",
            "  Using cached tensorboard_data_server-0.7.2-py3-none-any.whl.metadata (1.1 kB)\n",
            "Collecting werkzeug>=1.0.1 (from tensorboard~=2.19.0->tensorflow)\n",
            "  Downloading werkzeug-3.1.3-py3-none-any.whl.metadata (3.7 kB)\n",
            "Requirement already satisfied: MarkupSafe>=2.1.1 in c:\\users\\andre\\anaconda3\\envs\\colab_gpu\\lib\\site-packages (from werkzeug>=1.0.1->tensorboard~=2.19.0->tensorflow) (2.1.5)\n",
            "Collecting markdown-it-py>=2.2.0 (from rich->keras>=3.5.0->tensorflow)\n",
            "  Using cached markdown_it_py-3.0.0-py3-none-any.whl.metadata (6.9 kB)\n",
            "Requirement already satisfied: pygments<3.0.0,>=2.13.0 in c:\\users\\andre\\anaconda3\\envs\\colab_gpu\\lib\\site-packages (from rich->keras>=3.5.0->tensorflow) (2.19.1)\n",
            "Collecting mdurl~=0.1 (from markdown-it-py>=2.2.0->rich->keras>=3.5.0->tensorflow)\n",
            "  Using cached mdurl-0.1.2-py3-none-any.whl.metadata (1.6 kB)\n",
            "Downloading tensorflow-2.19.0-cp310-cp310-win_amd64.whl (375.7 MB)\n",
            "   ---------------------------------------- 0.0/375.7 MB ? eta -:--:--\n",
            "   ---------------------------------------- 0.5/375.7 MB 3.4 MB/s eta 0:01:52\n",
            "   ---------------------------------------- 1.8/375.7 MB 5.3 MB/s eta 0:01:11\n",
            "   ---------------------------------------- 3.4/375.7 MB 6.1 MB/s eta 0:01:02\n",
            "    --------------------------------------- 5.0/375.7 MB 6.9 MB/s eta 0:00:55\n",
            "    --------------------------------------- 7.1/375.7 MB 7.4 MB/s eta 0:00:50\n",
            "   - -------------------------------------- 9.4/375.7 MB 7.9 MB/s eta 0:00:47\n",
            "   - -------------------------------------- 12.6/375.7 MB 9.0 MB/s eta 0:00:41\n",
            "   - -------------------------------------- 16.0/375.7 MB 9.9 MB/s eta 0:00:37\n",
            "   -- ------------------------------------- 19.7/375.7 MB 10.8 MB/s eta 0:00:33\n",
            "   -- ------------------------------------- 23.9/375.7 MB 11.8 MB/s eta 0:00:30\n",
            "   --- ------------------------------------ 28.8/375.7 MB 12.9 MB/s eta 0:00:27\n",
            "   --- ------------------------------------ 34.6/375.7 MB 14.1 MB/s eta 0:00:25\n",
            "   ---- ----------------------------------- 39.3/375.7 MB 14.9 MB/s eta 0:00:23\n",
            "   ---- ----------------------------------- 43.0/375.7 MB 15.0 MB/s eta 0:00:23\n",
            "   ---- ----------------------------------- 46.1/375.7 MB 15.1 MB/s eta 0:00:22\n",
            "   ----- ---------------------------------- 51.1/375.7 MB 15.6 MB/s eta 0:00:21\n",
            "   ----- ---------------------------------- 56.1/375.7 MB 16.2 MB/s eta 0:00:20\n",
            "   ------ --------------------------------- 61.3/375.7 MB 16.7 MB/s eta 0:00:19\n",
            "   ------- -------------------------------- 66.6/375.7 MB 17.2 MB/s eta 0:00:18\n",
            "   ------- -------------------------------- 70.5/375.7 MB 17.4 MB/s eta 0:00:18\n",
            "   ------- -------------------------------- 74.4/375.7 MB 17.4 MB/s eta 0:00:18\n",
            "   -------- ------------------------------- 78.6/375.7 MB 17.5 MB/s eta 0:00:17\n",
            "   -------- ------------------------------- 82.3/375.7 MB 17.5 MB/s eta 0:00:17\n",
            "   --------- ------------------------------ 85.5/375.7 MB 17.4 MB/s eta 0:00:17\n",
            "   --------- ------------------------------ 88.3/375.7 MB 17.3 MB/s eta 0:00:17\n",
            "   --------- ------------------------------ 90.4/375.7 MB 16.9 MB/s eta 0:00:17\n",
            "   --------- ------------------------------ 92.8/375.7 MB 16.9 MB/s eta 0:00:17\n",
            "   ---------- ----------------------------- 95.7/375.7 MB 16.6 MB/s eta 0:00:17\n",
            "   ---------- ----------------------------- 98.8/375.7 MB 16.6 MB/s eta 0:00:17\n",
            "   ---------- ---------------------------- 101.7/375.7 MB 16.5 MB/s eta 0:00:17\n",
            "   ---------- ---------------------------- 103.8/375.7 MB 16.2 MB/s eta 0:00:17\n",
            "   ----------- --------------------------- 107.2/375.7 MB 16.3 MB/s eta 0:00:17\n",
            "   ----------- --------------------------- 110.9/375.7 MB 16.3 MB/s eta 0:00:17\n",
            "   ----------- --------------------------- 113.2/375.7 MB 16.1 MB/s eta 0:00:17\n",
            "   ------------ -------------------------- 116.9/375.7 MB 16.2 MB/s eta 0:00:17\n",
            "   ------------ -------------------------- 119.3/375.7 MB 16.0 MB/s eta 0:00:17\n",
            "   ------------ -------------------------- 121.4/375.7 MB 15.9 MB/s eta 0:00:17\n",
            "   ------------ -------------------------- 124.0/375.7 MB 15.8 MB/s eta 0:00:16\n",
            "   ------------- ------------------------- 125.6/375.7 MB 15.5 MB/s eta 0:00:17\n",
            "   ------------- ------------------------- 128.2/375.7 MB 15.5 MB/s eta 0:00:16\n",
            "   ------------- ------------------------- 130.8/375.7 MB 15.4 MB/s eta 0:00:16\n",
            "   ------------- ------------------------- 132.1/375.7 MB 15.2 MB/s eta 0:00:16\n",
            "   ------------- ------------------------- 134.5/375.7 MB 15.1 MB/s eta 0:00:16\n",
            "   -------------- ------------------------ 137.4/375.7 MB 15.1 MB/s eta 0:00:16\n",
            "   -------------- ------------------------ 140.0/375.7 MB 15.0 MB/s eta 0:00:16\n",
            "   -------------- ------------------------ 142.3/375.7 MB 14.9 MB/s eta 0:00:16\n",
            "   -------------- ------------------------ 143.9/375.7 MB 14.9 MB/s eta 0:00:16\n",
            "   --------------- ----------------------- 146.0/375.7 MB 14.7 MB/s eta 0:00:16\n",
            "   --------------- ----------------------- 148.6/375.7 MB 14.7 MB/s eta 0:00:16\n",
            "   --------------- ----------------------- 151.5/375.7 MB 14.6 MB/s eta 0:00:16\n",
            "   ---------------- ---------------------- 154.4/375.7 MB 14.6 MB/s eta 0:00:16\n",
            "   ---------------- ---------------------- 156.5/375.7 MB 14.6 MB/s eta 0:00:16\n",
            "   ---------------- ---------------------- 159.1/375.7 MB 14.5 MB/s eta 0:00:15\n",
            "   ---------------- ---------------------- 161.0/375.7 MB 14.5 MB/s eta 0:00:15\n",
            "   ---------------- ---------------------- 163.1/375.7 MB 14.3 MB/s eta 0:00:15\n",
            "   ----------------- --------------------- 165.4/375.7 MB 14.2 MB/s eta 0:00:15\n",
            "   ----------------- --------------------- 167.8/375.7 MB 14.3 MB/s eta 0:00:15\n",
            "   ----------------- --------------------- 170.9/375.7 MB 14.2 MB/s eta 0:00:15\n",
            "   ------------------ -------------------- 173.8/375.7 MB 14.2 MB/s eta 0:00:15\n",
            "   ------------------ -------------------- 175.6/375.7 MB 14.1 MB/s eta 0:00:15\n",
            "   ------------------ -------------------- 178.3/375.7 MB 14.1 MB/s eta 0:00:15\n",
            "   ------------------ -------------------- 179.6/375.7 MB 14.0 MB/s eta 0:00:15\n",
            "   ------------------ -------------------- 180.6/375.7 MB 13.8 MB/s eta 0:00:15\n",
            "   ------------------ -------------------- 182.2/375.7 MB 13.8 MB/s eta 0:00:15\n",
            "   ------------------- ------------------- 184.3/375.7 MB 13.6 MB/s eta 0:00:15\n",
            "   ------------------- ------------------- 185.9/375.7 MB 13.6 MB/s eta 0:00:15\n",
            "   ------------------- ------------------- 187.7/375.7 MB 13.5 MB/s eta 0:00:14\n",
            "   ------------------- ------------------- 188.7/375.7 MB 13.5 MB/s eta 0:00:14\n",
            "   ------------------- ------------------- 190.8/375.7 MB 13.3 MB/s eta 0:00:14\n",
            "   -------------------- ------------------ 193.2/375.7 MB 13.3 MB/s eta 0:00:14\n",
            "   -------------------- ------------------ 195.0/375.7 MB 13.2 MB/s eta 0:00:14\n",
            "   -------------------- ------------------ 197.7/375.7 MB 13.2 MB/s eta 0:00:14\n",
            "   -------------------- ------------------ 200.3/375.7 MB 13.2 MB/s eta 0:00:14\n",
            "   --------------------- ----------------- 202.9/375.7 MB 13.2 MB/s eta 0:00:14\n",
            "   --------------------- ----------------- 205.3/375.7 MB 13.1 MB/s eta 0:00:13\n",
            "   --------------------- ----------------- 207.4/375.7 MB 13.1 MB/s eta 0:00:13\n",
            "   --------------------- ----------------- 210.0/375.7 MB 13.1 MB/s eta 0:00:13\n",
            "   ---------------------- ---------------- 212.3/375.7 MB 13.1 MB/s eta 0:00:13\n",
            "   ---------------------- ---------------- 215.0/375.7 MB 13.1 MB/s eta 0:00:13\n",
            "   ---------------------- ---------------- 217.6/375.7 MB 13.0 MB/s eta 0:00:13\n",
            "   ---------------------- ---------------- 220.2/375.7 MB 13.0 MB/s eta 0:00:12\n",
            "   ----------------------- --------------- 222.8/375.7 MB 13.0 MB/s eta 0:00:12\n",
            "   ----------------------- --------------- 225.4/375.7 MB 13.0 MB/s eta 0:00:12\n",
            "   ----------------------- --------------- 227.0/375.7 MB 13.0 MB/s eta 0:00:12\n",
            "   ----------------------- --------------- 229.6/375.7 MB 12.9 MB/s eta 0:00:12\n",
            "   ------------------------ -------------- 232.0/375.7 MB 12.9 MB/s eta 0:00:12\n",
            "   ------------------------ -------------- 234.4/375.7 MB 12.9 MB/s eta 0:00:11\n",
            "   ------------------------ -------------- 237.0/375.7 MB 12.9 MB/s eta 0:00:11\n",
            "   ------------------------ -------------- 239.9/375.7 MB 12.9 MB/s eta 0:00:11\n",
            "   ------------------------- ------------- 242.5/375.7 MB 12.9 MB/s eta 0:00:11\n",
            "   ------------------------- ------------- 245.4/375.7 MB 12.9 MB/s eta 0:00:11\n",
            "   ------------------------- ------------- 246.4/375.7 MB 12.8 MB/s eta 0:00:11\n",
            "   ------------------------- ------------- 248.0/375.7 MB 12.8 MB/s eta 0:00:11\n",
            "   ------------------------- ------------- 249.3/375.7 MB 12.7 MB/s eta 0:00:10\n",
            "   -------------------------- ------------ 250.6/375.7 MB 12.6 MB/s eta 0:00:10\n",
            "   -------------------------- ------------ 251.9/375.7 MB 12.6 MB/s eta 0:00:10\n",
            "   -------------------------- ------------ 254.0/375.7 MB 12.5 MB/s eta 0:00:10\n",
            "   -------------------------- ------------ 255.3/375.7 MB 12.5 MB/s eta 0:00:10\n",
            "   -------------------------- ------------ 257.2/375.7 MB 12.4 MB/s eta 0:00:10\n",
            "   -------------------------- ------------ 259.5/375.7 MB 12.4 MB/s eta 0:00:10\n",
            "   --------------------------- ----------- 261.9/375.7 MB 12.4 MB/s eta 0:00:10\n",
            "   --------------------------- ----------- 264.2/375.7 MB 12.5 MB/s eta 0:00:09\n",
            "   --------------------------- ----------- 266.3/375.7 MB 12.5 MB/s eta 0:00:09\n",
            "   --------------------------- ----------- 268.7/375.7 MB 12.6 MB/s eta 0:00:09\n",
            "   ---------------------------- ---------- 271.1/375.7 MB 12.6 MB/s eta 0:00:09\n",
            "   ---------------------------- ---------- 273.7/375.7 MB 12.6 MB/s eta 0:00:09\n",
            "   ---------------------------- ---------- 276.0/375.7 MB 12.5 MB/s eta 0:00:08\n",
            "   ---------------------------- ---------- 278.7/375.7 MB 12.5 MB/s eta 0:00:08\n",
            "   ----------------------------- --------- 281.0/375.7 MB 12.5 MB/s eta 0:00:08\n",
            "   ----------------------------- --------- 283.6/375.7 MB 12.4 MB/s eta 0:00:08\n",
            "   ----------------------------- --------- 286.3/375.7 MB 12.4 MB/s eta 0:00:08\n",
            "   ----------------------------- --------- 288.9/375.7 MB 12.3 MB/s eta 0:00:08\n",
            "   ------------------------------ -------- 291.0/375.7 MB 12.3 MB/s eta 0:00:07\n",
            "   ------------------------------ -------- 293.1/375.7 MB 12.1 MB/s eta 0:00:07\n",
            "   ------------------------------ -------- 294.1/375.7 MB 12.1 MB/s eta 0:00:07\n",
            "   ------------------------------ -------- 295.2/375.7 MB 12.0 MB/s eta 0:00:07\n",
            "   ------------------------------ -------- 296.2/375.7 MB 11.9 MB/s eta 0:00:07\n",
            "   ------------------------------ -------- 298.3/375.7 MB 11.8 MB/s eta 0:00:07\n",
            "   ------------------------------- ------- 299.9/375.7 MB 11.8 MB/s eta 0:00:07\n",
            "   ------------------------------- ------- 301.5/375.7 MB 11.6 MB/s eta 0:00:07\n",
            "   ------------------------------- ------- 302.5/375.7 MB 11.6 MB/s eta 0:00:07\n",
            "   ------------------------------- ------- 303.3/375.7 MB 11.5 MB/s eta 0:00:07\n",
            "   ------------------------------- ------- 305.1/375.7 MB 11.4 MB/s eta 0:00:07\n",
            "   ------------------------------- ------- 307.2/375.7 MB 11.4 MB/s eta 0:00:07\n",
            "   -------------------------------- ------ 309.1/375.7 MB 11.4 MB/s eta 0:00:06\n",
            "   -------------------------------- ------ 311.4/375.7 MB 11.3 MB/s eta 0:00:06\n",
            "   -------------------------------- ------ 313.5/375.7 MB 11.2 MB/s eta 0:00:06\n",
            "   -------------------------------- ------ 315.6/375.7 MB 11.2 MB/s eta 0:00:06\n",
            "   --------------------------------- ----- 318.0/375.7 MB 11.1 MB/s eta 0:00:06\n",
            "   --------------------------------- ----- 320.1/375.7 MB 11.1 MB/s eta 0:00:06\n",
            "   --------------------------------- ----- 322.4/375.7 MB 11.0 MB/s eta 0:00:05\n",
            "   --------------------------------- ----- 324.5/375.7 MB 10.9 MB/s eta 0:00:05\n",
            "   --------------------------------- ----- 326.9/375.7 MB 10.9 MB/s eta 0:00:05\n",
            "   ---------------------------------- ---- 329.0/375.7 MB 10.8 MB/s eta 0:00:05\n",
            "   ---------------------------------- ---- 331.1/375.7 MB 10.8 MB/s eta 0:00:05\n",
            "   ---------------------------------- ---- 333.4/375.7 MB 10.7 MB/s eta 0:00:04\n",
            "   ---------------------------------- ---- 335.5/375.7 MB 10.7 MB/s eta 0:00:04\n",
            "   ----------------------------------- --- 337.6/375.7 MB 10.6 MB/s eta 0:00:04\n",
            "   ----------------------------------- --- 339.7/375.7 MB 10.6 MB/s eta 0:00:04\n",
            "   ----------------------------------- --- 342.1/375.7 MB 10.6 MB/s eta 0:00:04\n",
            "   ----------------------------------- --- 344.2/375.7 MB 10.5 MB/s eta 0:00:03\n",
            "   ----------------------------------- --- 346.3/375.7 MB 10.5 MB/s eta 0:00:03\n",
            "   ------------------------------------ -- 348.1/375.7 MB 10.5 MB/s eta 0:00:03\n",
            "   ------------------------------------ -- 350.0/375.7 MB 10.4 MB/s eta 0:00:03\n",
            "   ------------------------------------ -- 352.1/375.7 MB 10.4 MB/s eta 0:00:03\n",
            "   ------------------------------------ -- 354.4/375.7 MB 10.4 MB/s eta 0:00:03\n",
            "   ------------------------------------- - 356.8/375.7 MB 10.4 MB/s eta 0:00:02\n",
            "   ------------------------------------- - 358.6/375.7 MB 10.4 MB/s eta 0:00:02\n",
            "   ------------------------------------- - 360.4/375.7 MB 10.3 MB/s eta 0:00:02\n",
            "   ------------------------------------- - 362.8/375.7 MB 10.3 MB/s eta 0:00:02\n",
            "   ------------------------------------- - 365.2/375.7 MB 10.3 MB/s eta 0:00:02\n",
            "   --------------------------------------  367.3/375.7 MB 10.3 MB/s eta 0:00:01\n",
            "   --------------------------------------  369.4/375.7 MB 10.3 MB/s eta 0:00:01\n",
            "   --------------------------------------  371.7/375.7 MB 10.2 MB/s eta 0:00:01\n",
            "   --------------------------------------  374.1/375.7 MB 10.2 MB/s eta 0:00:01\n",
            "   --------------------------------------  375.7/375.7 MB 10.2 MB/s eta 0:00:01\n",
            "   --------------------------------------  375.7/375.7 MB 10.2 MB/s eta 0:00:01\n",
            "   --------------------------------------- 375.7/375.7 MB 10.1 MB/s eta 0:00:00\n",
            "Downloading absl_py-2.2.2-py3-none-any.whl (135 kB)\n",
            "Using cached astunparse-1.6.3-py2.py3-none-any.whl (12 kB)\n",
            "Using cached flatbuffers-25.2.10-py2.py3-none-any.whl (30 kB)\n",
            "Using cached gast-0.6.0-py3-none-any.whl (21 kB)\n",
            "Using cached google_pasta-0.2.0-py3-none-any.whl (57 kB)\n",
            "Downloading grpcio-1.71.0-cp310-cp310-win_amd64.whl (4.3 MB)\n",
            "   ---------------------------------------- 0.0/4.3 MB ? eta -:--:--\n",
            "   ------------------- -------------------- 2.1/4.3 MB 9.8 MB/s eta 0:00:01\n",
            "   ---------------------------------------- 4.3/4.3 MB 10.3 MB/s eta 0:00:00\n",
            "Downloading h5py-3.13.0-cp310-cp310-win_amd64.whl (3.0 MB)\n",
            "   ---------------------------------------- 0.0/3.0 MB ? eta -:--:--\n",
            "   ---------------------------- ----------- 2.1/3.0 MB 10.7 MB/s eta 0:00:01\n",
            "   ---------------------------------------- 3.0/3.0 MB 10.1 MB/s eta 0:00:00\n",
            "Using cached keras-3.9.2-py3-none-any.whl (1.3 MB)\n",
            "Using cached libclang-18.1.1-py2.py3-none-win_amd64.whl (26.4 MB)\n",
            "Downloading ml_dtypes-0.5.1-cp310-cp310-win_amd64.whl (209 kB)\n",
            "Using cached opt_einsum-3.4.0-py3-none-any.whl (71 kB)\n",
            "Downloading protobuf-5.29.4-cp310-abi3-win_amd64.whl (434 kB)\n",
            "Using cached tensorboard-2.19.0-py3-none-any.whl (5.5 MB)\n",
            "Downloading tensorflow_io_gcs_filesystem-0.31.0-cp310-cp310-win_amd64.whl (1.5 MB)\n",
            "   ---------------------------------------- 0.0/1.5 MB ? eta -:--:--\n",
            "   ---------------------------------------- 1.5/1.5 MB 9.8 MB/s eta 0:00:00\n",
            "Using cached termcolor-3.0.1-py3-none-any.whl (7.2 kB)\n",
            "Downloading wrapt-1.17.2-cp310-cp310-win_amd64.whl (38 kB)\n",
            "Downloading Markdown-3.7-py3-none-any.whl (106 kB)\n",
            "Using cached tensorboard_data_server-0.7.2-py3-none-any.whl (2.4 kB)\n",
            "Downloading werkzeug-3.1.3-py3-none-any.whl (224 kB)\n",
            "Using cached namex-0.0.8-py3-none-any.whl (5.8 kB)\n",
            "Downloading optree-0.15.0-cp310-cp310-win_amd64.whl (297 kB)\n",
            "Downloading rich-14.0.0-py3-none-any.whl (243 kB)\n",
            "Using cached markdown_it_py-3.0.0-py3-none-any.whl (87 kB)\n",
            "Using cached mdurl-0.1.2-py3-none-any.whl (10.0 kB)\n",
            "Installing collected packages: namex, libclang, flatbuffers, wrapt, werkzeug, termcolor, tensorflow-io-gcs-filesystem, tensorboard-data-server, protobuf, optree, opt-einsum, ml-dtypes, mdurl, markdown, h5py, grpcio, google-pasta, gast, astunparse, absl-py, tensorboard, markdown-it-py, rich, keras, tensorflow\n",
            "Successfully installed absl-py-2.2.2 astunparse-1.6.3 flatbuffers-25.2.10 gast-0.6.0 google-pasta-0.2.0 grpcio-1.71.0 h5py-3.13.0 keras-3.9.2 libclang-18.1.1 markdown-3.7 markdown-it-py-3.0.0 mdurl-0.1.2 ml-dtypes-0.5.1 namex-0.0.8 opt-einsum-3.4.0 optree-0.15.0 protobuf-5.29.4 rich-14.0.0 tensorboard-2.19.0 tensorboard-data-server-0.7.2 tensorflow-2.19.0 tensorflow-io-gcs-filesystem-0.31.0 termcolor-3.0.1 werkzeug-3.1.3 wrapt-1.17.2\n",
            "Note: you may need to restart the kernel to use updated packages.\n"
          ]
        }
      ]
    },
    {
      "cell_type": "markdown",
      "metadata": {
        "id": "RE5nAYbSoyVh"
      },
      "source": [
        "## The Dataset: The IMDB dataset\n",
        "We’ll work with the IMDB dataset: a set of 50,000 highly polarized reviews from the Internet Movie Database. They’re split into 25,000 reviews for training and 25,000 reviews for testing, each set consisting of 50% negative and 50% positive reviews. The  parameter `num_words` controls how many words different we want to use."
      ]
    },
    {
      "cell_type": "code",
      "execution_count": 1,
      "metadata": {
        "id": "773vhH1woyVh",
        "outputId": "ebef0a41-3c9d-4aef-e1f9-a73cd4190f20",
        "colab": {
          "base_uri": "https://localhost:8080/"
        }
      },
      "outputs": [
        {
          "output_type": "stream",
          "name": "stdout",
          "text": [
            "Downloading data from https://storage.googleapis.com/tensorflow/tf-keras-datasets/imdb.npz\n",
            "\u001b[1m17464789/17464789\u001b[0m \u001b[32m━━━━━━━━━━━━━━━━━━━━\u001b[0m\u001b[37m\u001b[0m \u001b[1m1s\u001b[0m 0us/step\n",
            "[1, 14, 22, 16, 43, 530, 973, 1622, 1385, 65, 458, 4468, 66, 3941, 4, 173, 36, 256, 5, 25, 100, 43, 838, 112, 50, 670, 2, 9, 35, 480, 284, 5, 150, 4, 172, 112, 167, 2, 336, 385, 39, 4, 172, 4536, 1111, 17, 546, 38, 13, 447, 4, 192, 50, 16, 6, 147, 2025, 19, 14, 22, 4, 1920, 4613, 469, 4, 22, 71, 87, 12, 16, 43, 530, 38, 76, 15, 13, 1247, 4, 22, 17, 515, 17, 12, 16, 626, 18, 2, 5, 62, 386, 12, 8, 316, 8, 106, 5, 4, 2223, 2, 16, 480, 66, 3785, 33, 4, 130, 12, 16, 38, 619, 5, 25, 124, 51, 36, 135, 48, 25, 1415, 33, 6, 22, 12, 215, 28, 77, 52, 5, 14, 407, 16, 82, 2, 8, 4, 107, 117, 2, 15, 256, 4, 2, 7, 3766, 5, 723, 36, 71, 43, 530, 476, 26, 400, 317, 46, 7, 4, 2, 1029, 13, 104, 88, 4, 381, 15, 297, 98, 32, 2071, 56, 26, 141, 6, 194, 2, 18, 4, 226, 22, 21, 134, 476, 26, 480, 5, 144, 30, 2, 18, 51, 36, 28, 224, 92, 25, 104, 4, 226, 65, 16, 38, 1334, 88, 12, 16, 283, 5, 16, 4472, 113, 103, 32, 15, 16, 2, 19, 178, 32]\n"
          ]
        }
      ],
      "source": [
        "from tensorflow.keras.datasets import imdb\n",
        "num_words = 5000\n",
        "(train_data, train_labels), (test_data, test_labels) = imdb.load_data(num_words=num_words)\n",
        "print(train_data[0])"
      ]
    },
    {
      "cell_type": "code",
      "execution_count": 3,
      "metadata": {
        "id": "qXKGw_F6oyVh",
        "outputId": "40cb07f8-d928-47b2-ae1d-5a857834e6a3",
        "colab": {
          "base_uri": "https://localhost:8080/"
        }
      },
      "outputs": [
        {
          "output_type": "stream",
          "name": "stdout",
          "text": [
            "Downloading data from https://storage.googleapis.com/tensorflow/tf-keras-datasets/imdb_word_index.json\n",
            "\u001b[1m1641221/1641221\u001b[0m \u001b[32m━━━━━━━━━━━━━━━━━━━━\u001b[0m\u001b[37m\u001b[0m \u001b[1m1s\u001b[0m 0us/step\n"
          ]
        }
      ],
      "source": [
        "# Transform word_id to word and reverse\n",
        "word2int = imdb.get_word_index()\n",
        "word2int = {w: i+3 for w, i in word2int.items()}\n",
        "word2int[\"<PAD>\"] = 0\n",
        "word2int[\"<START>\"] = 1\n",
        "word2int[\"<UNK>\"] = 2\n",
        "word2int[\"<UNUSED>\"] = 3\n",
        "int2word = {i: w for w, i in word2int.items()}\n",
        "num_words = num_words+3"
      ]
    },
    {
      "cell_type": "markdown",
      "metadata": {
        "id": "0RSfjVWzoyVi"
      },
      "source": [
        "For transforming an id-sequence to a phrase use get_words"
      ]
    },
    {
      "cell_type": "code",
      "execution_count": 4,
      "metadata": {
        "id": "_Ed1W-qsoyVi",
        "outputId": "9fbfc8d0-7016-4007-b44f-24dcb3d07711",
        "colab": {
          "base_uri": "https://localhost:8080/"
        }
      },
      "outputs": [
        {
          "output_type": "stream",
          "name": "stdout",
          "text": [
            "<START> this film was just brilliant casting location scenery story direction everyone's really suited the part they played and you could just imagine being there robert <UNK> is an amazing actor and now the same being director <UNK> father came from the same scottish island as myself so i loved the fact there was a real connection with this film the witty remarks throughout the film were great it was just brilliant so much that i bought the film as soon as it was released for <UNK> and would recommend it to everyone to watch and the fly <UNK> was amazing really cried at the end it was so sad and you know what they say if you cry at a film it must have been good and this definitely was also <UNK> to the two little <UNK> that played the <UNK> of norman and paul they were just brilliant children are often left out of the <UNK> list i think because the stars that play them all grown up are such a big <UNK> for the whole film but these children are amazing and should be <UNK> for what they have done don't you think the whole story was so lovely because it was true and was someone's life after all that was <UNK> with us all\n",
            "Sentiment:  1\n"
          ]
        }
      ],
      "source": [
        "def get_words(sentence, int2word):\n",
        "    return ' '.join([int2word.get(i,'<UNK>') for i in sentence])\n",
        "print(get_words(train_data[0], int2word))\n",
        "print('Sentiment: ', train_labels[0])"
      ]
    },
    {
      "cell_type": "markdown",
      "metadata": {
        "id": "wJnd2J1moyVi"
      },
      "source": [
        "## Data Preprocessing\n",
        "\n",
        "You need to convert your raw text to an appropriate input to a sequential model"
      ]
    },
    {
      "cell_type": "code",
      "execution_count": 5,
      "metadata": {
        "id": "FjV-teaRoyVj",
        "outputId": "04270bcc-f0dd-4984-b215-df3886506682",
        "colab": {
          "base_uri": "https://localhost:8080/"
        }
      },
      "outputs": [
        {
          "output_type": "stream",
          "name": "stdout",
          "text": [
            "<START> this film was just brilliant casting location scenery story direction everyone's really suited the part they played and you could just imagine being there robert <UNK> is an amazing actor and now the same being director <UNK> father came from the same scottish island as myself so i loved the fact there was a real connection with this film the witty remarks throughout the film were great it was just brilliant so much that i bought the film as soon as it was released for <UNK> and would recommend it to everyone to watch and the fly <UNK> was amazing really cried at the end it was so sad and you know what they say if you cry at a film it must have been good and this definitely was also <UNK> to the two little <UNK> that played the <UNK> of norman and paul they were just brilliant children are often left out of the <UNK> list i think because the stars that play them all grown up are such a big <UNK> for the whole film but these children are amazing and should be <UNK> for what they have done don't you think the whole story was so lovely because it was true and was someone's life after all that was <UNK> with us all\n",
            "[1, 14, 22, 16, 43, 530, 973, 1622, 1385, 65, 458, 4468, 66, 3941, 4, 173, 36, 256, 5, 25, 100, 43, 838, 112, 50, 670, 2, 9, 35, 480, 284, 5, 150, 4, 172, 112, 167, 2, 336, 385, 39, 4, 172, 4536, 1111, 17, 546, 38, 13, 447, 4, 192, 50, 16, 6, 147, 2025, 19, 14, 22, 4, 1920, 4613, 469, 4, 22, 71, 87, 12, 16, 43, 530, 38, 76, 15, 13, 1247, 4, 22, 17, 515, 17, 12, 16, 626, 18, 2, 5, 62, 386, 12, 8, 316, 8, 106, 5, 4, 2223, 2, 16, 480, 66, 3785, 33, 4, 130, 12, 16, 38, 619, 5, 25, 124, 51, 36, 135, 48, 25, 1415, 33, 6, 22, 12, 215, 28, 77, 52, 5, 14, 407, 16, 82, 2, 8, 4, 107, 117, 2, 15, 256, 4, 2, 7, 3766, 5, 723, 36, 71, 43, 530, 476, 26, 400, 317, 46, 7, 4, 2, 1029, 13, 104, 88, 4, 381, 15, 297, 98, 32, 2071, 56, 26, 141, 6, 194, 2, 18, 4, 226, 22, 21, 134, 476, 26, 480, 5, 144, 30, 2, 18, 51, 36, 28, 224, 92, 25, 104, 4, 226, 65, 16, 38, 1334, 88, 12, 16, 283, 5, 16, 4472, 113, 103, 32, 15, 16, 2, 19, 178, 32]\n"
          ]
        }
      ],
      "source": [
        "def vectorize_text_sentence(text, word2int):\n",
        "    tokens = text.split(' ')\n",
        "    tokens_id = [word2int.get(tk,2) for tk in tokens]\n",
        "    return tokens_id\n",
        "\n",
        "text = get_words(train_data[0], int2word)\n",
        "print(text)\n",
        "print(vectorize_text_sentence(text, word2int))"
      ]
    },
    {
      "cell_type": "markdown",
      "metadata": {
        "id": "skd8sG8EoyVj"
      },
      "source": [
        "### Bag of Words Model BoW\n",
        "We are going to use a bag of words model. BoW is a simplifying representation used in natural language processing. In this model, a text (such as a sentence or a document) is represented as the Each key is the word, and each value is the frequency of occurrences of that word in the given text document.\n",
        "\n",
        "- **Input document**: `\"John likes to watch movies Mary likes movies too\"`\n",
        "- **BoW**: `{'John': 1, 'likes': 2, 'to': 1, 'watch': 1, 'movies': 2, 'Mary': 1, 'too': 1}`\n",
        "- **BoW Normalized**: `{'John': 0.11, 'likes': 0.22, 'to': 0.11, 'watch': 0.11, 'movies': 0.22, 'Mary': 0.11, 'too': 0.11}`\n"
      ]
    },
    {
      "cell_type": "code",
      "execution_count": 6,
      "metadata": {
        "id": "eRRN0c8AoyVj",
        "outputId": "28e78840-0daf-4bf2-e525-5e3bcbf8d1d8",
        "colab": {
          "base_uri": "https://localhost:8080/"
        }
      },
      "outputs": [
        {
          "output_type": "stream",
          "name": "stdout",
          "text": [
            "text_example John likes to watch movies Mary likes movies too\n",
            "text splitted ['John', 'likes', 'to', 'watch', 'movies', 'Mary', 'likes', 'movies', 'too']\n",
            "bag_of_words {'John': 0.1111111111111111, 'likes': 0.2222222222222222, 'to': 0.1111111111111111, 'watch': 0.1111111111111111, 'movies': 0.2222222222222222, 'Mary': 0.1111111111111111, 'too': 0.1111111111111111}\n",
            "bag_of_words norm=False {'John': 1, 'likes': 2, 'to': 1, 'watch': 1, 'movies': 2, 'Mary': 1, 'too': 1}\n",
            "bag_of_words with indexes {308: 1, 1232: 2, 8: 1, 106: 1, 102: 2, 1083: 1, 99: 1}\n"
          ]
        }
      ],
      "source": [
        "from collections import Counter\n",
        "\n",
        "def get_bag_of_words(sequence, norm=True):\n",
        "    word_count = Counter(sequence)\n",
        "    if norm:\n",
        "        total = sum(word_count.values())\n",
        "        word_freq = {w: n / total for w, n in word_count.items()}\n",
        "        return word_freq\n",
        "    else:\n",
        "        return dict(word_count.items())\n",
        "\n",
        "text_example = \"John likes to watch movies Mary likes movies too\"\n",
        "print('text_example', text_example)\n",
        "text_sequence = text_example.split()\n",
        "print('text splitted', text_sequence)\n",
        "bag_of_words = get_bag_of_words(text_sequence)\n",
        "print('bag_of_words', bag_of_words)\n",
        "print('bag_of_words norm=False', get_bag_of_words(text_sequence, norm=False))\n",
        "print(\n",
        "    'bag_of_words with indexes', {\n",
        "        word2int[w.lower()]: p\n",
        "        for w, p in get_bag_of_words(text_sequence, norm=False).items()\n",
        "    })"
      ]
    },
    {
      "cell_type": "markdown",
      "metadata": {
        "id": "m082-OeGoyVj"
      },
      "source": [
        "### Document Term Matrix\n",
        "\n",
        "We need a way to model the documents so that they are all the same length, so that we can use a neural network. For this we are going to use the document term matrix.\n",
        "- Every document is a vector with the dimension of the vocabulary.\n",
        "- The position i of the vector corresponds to the word with index i.\n",
        "- The vector is all zeros except for the BoW word positions, which are filled with the frequency of the corresponding word.\n",
        "\n",
        "\n",
        "For example:\n",
        "\n",
        "- D1 = \"I like movies\",  `{'I': 1, 'like': 1, 'movies': 1}`\n",
        "\n",
        "- D2 = \"I dislike movies\",  `{'I': 1, 'dislike': 1, 'movies': 1}`\n",
        "\n",
        "Then the document-term matrix would be:\n",
        "\n",
        "\n",
        "\n",
        "   | Doc| I  | like    | dislike   | movies   |\n",
        "|---:|:-------------|:-----------|:------|:------|\n",
        "| D1 | 1  | 1       | 0   | 1     |\n",
        "| D2 | 1  | 0    | 1   | 1     |\n",
        "\n",
        "$D1 = [1,1,0,1]$\n",
        "\n",
        "$D2 = [1,0,1,1]$\n",
        "\n",
        "We convert every BoW to a vector of `dim=num_words` with `vectorize_sequences`"
      ]
    },
    {
      "cell_type": "code",
      "execution_count": 7,
      "metadata": {
        "id": "IRt1eW2uoyVk",
        "outputId": "cca3b430-a65c-44b3-a8a6-d47fc71a4270",
        "colab": {
          "base_uri": "https://localhost:8080/"
        }
      },
      "outputs": [
        {
          "output_type": "execute_result",
          "data": {
            "text/plain": [
              "((25000, 5003), (25000,))"
            ]
          },
          "metadata": {},
          "execution_count": 7
        }
      ],
      "source": [
        "def vectorize_sequence(sequence, num_words, norm=True):\n",
        "    vec = np.zeros(num_words)\n",
        "    bow = get_bag_of_words(sequence, norm)\n",
        "    for w, freq in bow.items():\n",
        "        if w < num_words:\n",
        "            vec[w] = freq\n",
        "    return vec\n",
        "\n",
        "\n",
        "def vectorize_sequences(sequences, num_words=num_words, norm=True):\n",
        "    \"\"\"Creates an all-zero matrix of shape (len(sequences), num_words)\"\"\"\n",
        "    results = np.zeros((len(sequences), num_words))\n",
        "    for i, sequence in enumerate(sequences):\n",
        "        results[i, :] = vectorize_sequence(sequence, num_words, norm)\n",
        "    return results\n",
        "\n",
        "\n",
        "x_train = vectorize_sequences(train_data, num_words=num_words)\n",
        "x_test = vectorize_sequences(test_data, num_words=num_words)\n",
        "y_train =np.asarray(train_labels).astype('float32')\n",
        "y_test = np.asarray(test_labels).astype('float32')\n",
        "x_train.shape, y_train.shape"
      ]
    },
    {
      "cell_type": "markdown",
      "metadata": {
        "id": "pNix8g4_oyVk"
      },
      "source": [
        "## Define and train a model\n",
        "\n",
        "Define, compile and fit your NN model\n",
        "\n",
        "1. You can use the [Functional API](https://keras.io/guides/functional_api/):\n",
        "\n",
        "You need to start with an input data entry:\n",
        "```python    \n",
        "    inputs = keras.Input(shape=(8,))\n",
        "    layer_1 = layers.Dense(...)(inputs)\n",
        "```\n",
        "\n",
        "and the network outputs:\n",
        "```python\n",
        "outputs = layers.Dense(...)(previous_layer)\n",
        "model = keras.Model(inputs=inputs, outputs=outputs)\n",
        "```\n",
        "\n",
        "2. Or you can use [Sequential API](https://keras.io/guides/sequential_model/)\n",
        "\n",
        "```python\n",
        "model = keras.Sequential(name='example_model')\n",
        "model.add(layers.Dense(..., input_shape=(8,))\n",
        "model.add(...\n",
        "```\n",
        "\n",
        "You can introduce regularization methods seen in [Prevent_Overfitting.ipynb](https://github.com/ezponda/intro_deep_learning/blob/main/class/Fundamentals/Prevent_Overfitting.ipynb) like [Dropout layer](https://www.tensorflow.org/api_docs/python/tf/keras/layers/Dropout):\n",
        "\n",
        "\n",
        "```python\n",
        "tf.keras.layers.Dropout(\n",
        "    rate, noise_shape=None, seed=None, **kwargs\n",
        ")\n",
        "```\n",
        "\n",
        "With Functional API:\n",
        "```python\n",
        "next_layer = layers.Dropout(0.4)(prev_layer)\n",
        "```\n",
        "With Sequential:\n",
        "```python\n",
        "model.add(layers.Dropout(0.4))\n",
        "```\n",
        "\n",
        "First try with only one hidden layer and see the results."
      ]
    },
    {
      "cell_type": "code",
      "execution_count": 12,
      "metadata": {
        "id": "QNH9nSYGoyVk"
      },
      "outputs": [],
      "source": [
        "model = ..."
      ]
    },
    {
      "cell_type": "code",
      "source": [],
      "metadata": {
        "colab": {
          "base_uri": "https://localhost:8080/"
        },
        "id": "1sVgkouuJsXm",
        "outputId": "968f53bb-0d42-43e0-f781-2253656bd996"
      },
      "execution_count": 8,
      "outputs": [
        {
          "output_type": "stream",
          "name": "stdout",
          "text": [
            "Collecting keras-tuner\n",
            "  Downloading keras_tuner-1.4.7-py3-none-any.whl.metadata (5.4 kB)\n",
            "Requirement already satisfied: keras in c:\\users\\andre\\anaconda3\\envs\\colab_gpu\\lib\\site-packages (from keras-tuner) (3.9.2)\n",
            "Requirement already satisfied: packaging in c:\\users\\andre\\anaconda3\\envs\\colab_gpu\\lib\\site-packages (from keras-tuner) (24.2)\n",
            "Requirement already satisfied: requests in c:\\users\\andre\\anaconda3\\envs\\colab_gpu\\lib\\site-packages (from keras-tuner) (2.32.3)\n",
            "Collecting kt-legacy (from keras-tuner)\n",
            "  Downloading kt_legacy-1.0.5-py3-none-any.whl.metadata (221 bytes)\n",
            "Requirement already satisfied: absl-py in c:\\users\\andre\\anaconda3\\envs\\colab_gpu\\lib\\site-packages (from keras->keras-tuner) (2.2.2)\n",
            "Requirement already satisfied: numpy in c:\\users\\andre\\anaconda3\\envs\\colab_gpu\\lib\\site-packages (from keras->keras-tuner) (2.1.2)\n",
            "Requirement already satisfied: rich in c:\\users\\andre\\anaconda3\\envs\\colab_gpu\\lib\\site-packages (from keras->keras-tuner) (14.0.0)\n",
            "Requirement already satisfied: namex in c:\\users\\andre\\anaconda3\\envs\\colab_gpu\\lib\\site-packages (from keras->keras-tuner) (0.0.8)\n",
            "Requirement already satisfied: h5py in c:\\users\\andre\\anaconda3\\envs\\colab_gpu\\lib\\site-packages (from keras->keras-tuner) (3.13.0)\n",
            "Requirement already satisfied: optree in c:\\users\\andre\\anaconda3\\envs\\colab_gpu\\lib\\site-packages (from keras->keras-tuner) (0.15.0)\n",
            "Requirement already satisfied: ml-dtypes in c:\\users\\andre\\anaconda3\\envs\\colab_gpu\\lib\\site-packages (from keras->keras-tuner) (0.5.1)\n",
            "Requirement already satisfied: charset-normalizer<4,>=2 in c:\\users\\andre\\anaconda3\\envs\\colab_gpu\\lib\\site-packages (from requests->keras-tuner) (3.4.1)\n",
            "Requirement already satisfied: idna<4,>=2.5 in c:\\users\\andre\\anaconda3\\envs\\colab_gpu\\lib\\site-packages (from requests->keras-tuner) (3.10)\n",
            "Requirement already satisfied: urllib3<3,>=1.21.1 in c:\\users\\andre\\anaconda3\\envs\\colab_gpu\\lib\\site-packages (from requests->keras-tuner) (2.3.0)\n",
            "Requirement already satisfied: certifi>=2017.4.17 in c:\\users\\andre\\anaconda3\\envs\\colab_gpu\\lib\\site-packages (from requests->keras-tuner) (2025.1.31)\n",
            "Requirement already satisfied: typing-extensions>=4.5.0 in c:\\users\\andre\\anaconda3\\envs\\colab_gpu\\lib\\site-packages (from optree->keras->keras-tuner) (4.12.2)\n",
            "Requirement already satisfied: markdown-it-py>=2.2.0 in c:\\users\\andre\\anaconda3\\envs\\colab_gpu\\lib\\site-packages (from rich->keras->keras-tuner) (3.0.0)\n",
            "Requirement already satisfied: pygments<3.0.0,>=2.13.0 in c:\\users\\andre\\anaconda3\\envs\\colab_gpu\\lib\\site-packages (from rich->keras->keras-tuner) (2.19.1)\n",
            "Requirement already satisfied: mdurl~=0.1 in c:\\users\\andre\\anaconda3\\envs\\colab_gpu\\lib\\site-packages (from markdown-it-py>=2.2.0->rich->keras->keras-tuner) (0.1.2)\n",
            "Downloading keras_tuner-1.4.7-py3-none-any.whl (129 kB)\n",
            "Downloading kt_legacy-1.0.5-py3-none-any.whl (9.6 kB)\n",
            "Installing collected packages: kt-legacy, keras-tuner\n",
            "Successfully installed keras-tuner-1.4.7 kt-legacy-1.0.5\n"
          ]
        }
      ]
    },
    {
      "cell_type": "code",
      "execution_count": 20,
      "metadata": {
        "id": "V11VykJpoyVk",
        "outputId": "b1a08756-f2f6-4c2c-efab-cf7126c3122b",
        "colab": {
          "base_uri": "https://localhost:8080/"
        }
      },
      "outputs": [
        {
          "output_type": "stream",
          "name": "stdout",
          "text": [
            "Trial 90 Complete [00h 01m 17s]\n",
            "val_accuracy: 0.888159990310669\n",
            "\n",
            "Best val_accuracy So Far: 0.8912000060081482\n",
            "Total elapsed time: 00h 29m 13s\n",
            "\n",
            "Mejores hiperparámetros encontrados:\n",
            "Número de capas ocultas: 1\n",
            "Capa 1: 48 unidades, Dropout: 0.4, L2: 0.00014019410557845397\n",
            "Tasa de aprendizaje: 0.00011334414085900249\n"
          ]
        }
      ],
      "source": [
        "# Preparar datos sin normalizar\n",
        "x_train = vectorize_sequences(train_data, num_words=num_words, norm=False)\n",
        "x_test = vectorize_sequences(test_data, num_words=num_words, norm=False)\n",
        "y_train = np.asarray(train_labels).astype('float32')\n",
        "y_test = np.asarray(test_labels).astype('float32')\n",
        "print(f'x_train shape: {x_train.shape}, x_test shape: {x_test.shape}')\n",
        "\n",
        "# Función para construir el modelo con hiperparámetros ajustables\n",
        "def build_model(hp):\n",
        "    model = keras.Sequential()\n",
        "\n",
        "    # Tune número de capas ocultas (1 a 4)\n",
        "    for i in range(hp.Int('num_layers', min_value=1, max_value=4)):\n",
        "        # Tune número de unidades por capa (16 a 512, pasos de 32)\n",
        "        units = hp.Int(f'units_{i}', min_value=16, max_value=512, step=32)\n",
        "        model.add(layers.Dense(\n",
        "            units=units,\n",
        "            activation='relu',\n",
        "            kernel_regularizer=keras.regularizers.l2(hp.Float(f'l2_{i}', min_value=1e-4, max_value=1e-2, sampling='log'))\n",
        "        ))\n",
        "\n",
        "        # Tune tasa de dropout (0.0 a 0.4, pasos de 0.1)\n",
        "        dropout_rate = hp.Float(f'dropout_{i}', min_value=0.0, max_value=0.4, step=0.1)\n",
        "        model.add(layers.Dropout(rate=dropout_rate))\n",
        "\n",
        "    # Capa de salida\n",
        "    model.add(layers.Dense(1, activation='sigmoid'))\n",
        "\n",
        "    # Tune tasa de aprendizaje para Adam\n",
        "    learning_rate = hp.Float('learning_rate', min_value=1e-4, max_value=1e-2, sampling='log')\n",
        "    optimizer = keras.optimizers.Adam(learning_rate=learning_rate)\n",
        "\n",
        "    model.compile(\n",
        "        optimizer=optimizer,\n",
        "        loss='binary_crossentropy',\n",
        "        metrics=['accuracy']\n",
        "    )\n",
        "\n",
        "    return model\n",
        "\n",
        "# Configurar el tuner con Hyperband\n",
        "tuner = kt.Hyperband(\n",
        "    build_model,\n",
        "    objective='val_accuracy',\n",
        "    max_epochs=20,\n",
        "    factor=3,\n",
        "    hyperband_iterations=3,\n",
        "    directory='imdb_tuning_v3',\n",
        "    project_name='sentiment_classification'\n",
        ")\n",
        "\n",
        "# Callback para EarlyStopping\n",
        "stop_early = tf.keras.callbacks.EarlyStopping(\n",
        "    monitor='val_loss',\n",
        "    patience=10,  # Más paciencia\n",
        "    restore_best_weights=True,\n",
        "    verbose=1\n",
        ")\n",
        "\n",
        "# Ejecutar la búsqueda de hiperparámetros\n",
        "tuner.search(\n",
        "    x_train,\n",
        "    y_train,\n",
        "    epochs=20,\n",
        "    validation_split=0.25,\n",
        "    batch_size=32,\n",
        "    callbacks=[stop_early],\n",
        "    verbose=1\n",
        ")\n",
        "\n",
        "# Obtener los mejores hiperparámetros\n",
        "best_hps = tuner.get_best_hyperparameters(num_trials=1)[0]\n",
        "print(\"\\nMejores hiperparámetros encontrados:\")\n",
        "print(f\"Número de capas ocultas: {best_hps.get('num_layers')}\")\n",
        "for i in range(best_hps.get('num_layers')):\n",
        "    print(f\"Capa {i+1}: {best_hps.get(f'units_{i}')} unidades, Dropout: {best_hps.get(f'dropout_{i}')}, L2: {best_hps.get(f'l2_{i}')}\")\n",
        "print(f\"Tasa de aprendizaje: {best_hps.get('learning_rate')}\")"
      ]
    },
    {
      "cell_type": "code",
      "execution_count": 22,
      "metadata": {
        "id": "Qs2TQOYUoyVp",
        "colab": {
          "base_uri": "https://localhost:8080/"
        },
        "outputId": "6654dfd1-8d3c-4e3c-8ad7-e049847b6cb6"
      },
      "outputs": [
        {
          "output_type": "stream",
          "name": "stdout",
          "text": [
            "Epoch 1/20\n",
            "\u001b[1m586/586\u001b[0m \u001b[32m━━━━━━━━━━━━━━━━━━━━\u001b[0m\u001b[37m\u001b[0m \u001b[1m2s\u001b[0m 2ms/step - accuracy: 0.6247 - loss: 0.6662 - val_accuracy: 0.8448 - val_loss: 0.4417\n",
            "Epoch 2/20\n",
            "\u001b[1m586/586\u001b[0m \u001b[32m━━━━━━━━━━━━━━━━━━━━\u001b[0m\u001b[37m\u001b[0m \u001b[1m1s\u001b[0m 2ms/step - accuracy: 0.8369 - loss: 0.4298 - val_accuracy: 0.8720 - val_loss: 0.3541\n",
            "Epoch 3/20\n",
            "\u001b[1m586/586\u001b[0m \u001b[32m━━━━━━━━━━━━━━━━━━━━\u001b[0m\u001b[37m\u001b[0m \u001b[1m1s\u001b[0m 2ms/step - accuracy: 0.8738 - loss: 0.3458 - val_accuracy: 0.8797 - val_loss: 0.3281\n",
            "Epoch 4/20\n",
            "\u001b[1m586/586\u001b[0m \u001b[32m━━━━━━━━━━━━━━━━━━━━\u001b[0m\u001b[37m\u001b[0m \u001b[1m1s\u001b[0m 2ms/step - accuracy: 0.8955 - loss: 0.2965 - val_accuracy: 0.8864 - val_loss: 0.3087\n",
            "Epoch 5/20\n",
            "\u001b[1m586/586\u001b[0m \u001b[32m━━━━━━━━━━━━━━━━━━━━\u001b[0m\u001b[37m\u001b[0m \u001b[1m1s\u001b[0m 2ms/step - accuracy: 0.9071 - loss: 0.2684 - val_accuracy: 0.8877 - val_loss: 0.3025\n",
            "Epoch 6/20\n",
            "\u001b[1m586/586\u001b[0m \u001b[32m━━━━━━━━━━━━━━━━━━━━\u001b[0m\u001b[37m\u001b[0m \u001b[1m1s\u001b[0m 2ms/step - accuracy: 0.9169 - loss: 0.2478 - val_accuracy: 0.8893 - val_loss: 0.2973\n",
            "Epoch 7/20\n",
            "\u001b[1m586/586\u001b[0m \u001b[32m━━━━━━━━━━━━━━━━━━━━\u001b[0m\u001b[37m\u001b[0m \u001b[1m1s\u001b[0m 2ms/step - accuracy: 0.9239 - loss: 0.2282 - val_accuracy: 0.8878 - val_loss: 0.2955\n",
            "Epoch 8/20\n",
            "\u001b[1m586/586\u001b[0m \u001b[32m━━━━━━━━━━━━━━━━━━━━\u001b[0m\u001b[37m\u001b[0m \u001b[1m1s\u001b[0m 2ms/step - accuracy: 0.9298 - loss: 0.2145 - val_accuracy: 0.8856 - val_loss: 0.3013\n",
            "Epoch 9/20\n",
            "\u001b[1m586/586\u001b[0m \u001b[32m━━━━━━━━━━━━━━━━━━━━\u001b[0m\u001b[37m\u001b[0m \u001b[1m1s\u001b[0m 2ms/step - accuracy: 0.9336 - loss: 0.2045 - val_accuracy: 0.8878 - val_loss: 0.2983\n",
            "Epoch 10/20\n",
            "\u001b[1m586/586\u001b[0m \u001b[32m━━━━━━━━━━━━━━━━━━━━\u001b[0m\u001b[37m\u001b[0m \u001b[1m1s\u001b[0m 2ms/step - accuracy: 0.9385 - loss: 0.1924 - val_accuracy: 0.8882 - val_loss: 0.3014\n",
            "Epoch 11/20\n",
            "\u001b[1m586/586\u001b[0m \u001b[32m━━━━━━━━━━━━━━━━━━━━\u001b[0m\u001b[37m\u001b[0m \u001b[1m1s\u001b[0m 2ms/step - accuracy: 0.9430 - loss: 0.1815 - val_accuracy: 0.8891 - val_loss: 0.3037\n",
            "Epoch 12/20\n",
            "\u001b[1m586/586\u001b[0m \u001b[32m━━━━━━━━━━━━━━━━━━━━\u001b[0m\u001b[37m\u001b[0m \u001b[1m1s\u001b[0m 2ms/step - accuracy: 0.9472 - loss: 0.1694 - val_accuracy: 0.8890 - val_loss: 0.3058\n",
            "Epoch 13/20\n",
            "\u001b[1m586/586\u001b[0m \u001b[32m━━━━━━━━━━━━━━━━━━━━\u001b[0m\u001b[37m\u001b[0m \u001b[1m1s\u001b[0m 2ms/step - accuracy: 0.9527 - loss: 0.1596 - val_accuracy: 0.8888 - val_loss: 0.3092\n",
            "Epoch 14/20\n",
            "\u001b[1m586/586\u001b[0m \u001b[32m━━━━━━━━━━━━━━━━━━━━\u001b[0m\u001b[37m\u001b[0m \u001b[1m1s\u001b[0m 2ms/step - accuracy: 0.9556 - loss: 0.1524 - val_accuracy: 0.8874 - val_loss: 0.3156\n",
            "Epoch 15/20\n",
            "\u001b[1m586/586\u001b[0m \u001b[32m━━━━━━━━━━━━━━━━━━━━\u001b[0m\u001b[37m\u001b[0m \u001b[1m1s\u001b[0m 2ms/step - accuracy: 0.9607 - loss: 0.1454 - val_accuracy: 0.8880 - val_loss: 0.3222\n",
            "Epoch 16/20\n",
            "\u001b[1m586/586\u001b[0m \u001b[32m━━━━━━━━━━━━━━━━━━━━\u001b[0m\u001b[37m\u001b[0m \u001b[1m1s\u001b[0m 2ms/step - accuracy: 0.9596 - loss: 0.1394 - val_accuracy: 0.8864 - val_loss: 0.3260\n",
            "Epoch 17/20\n",
            "\u001b[1m586/586\u001b[0m \u001b[32m━━━━━━━━━━━━━━━━━━━━\u001b[0m\u001b[37m\u001b[0m \u001b[1m1s\u001b[0m 2ms/step - accuracy: 0.9665 - loss: 0.1324 - val_accuracy: 0.8856 - val_loss: 0.3322\n",
            "Epoch 17: early stopping\n",
            "Restoring model weights from the end of the best epoch: 7.\n",
            "\u001b[1m782/782\u001b[0m \u001b[32m━━━━━━━━━━━━━━━━━━━━\u001b[0m\u001b[37m\u001b[0m \u001b[1m1s\u001b[0m 780us/step - accuracy: 0.8872 - loss: 0.3046\n",
            "Test Loss: 0.3025205135345459\n",
            "Test Accuracy: 0.8861200213432312\n"
          ]
        }
      ],
      "source": [
        "# Construir y entrenar el modelo con los mejores hiperparámetros\n",
        "model = tuner.hypermodel.build(best_hps)\n",
        "history = model.fit(\n",
        "    x_train,\n",
        "    y_train,\n",
        "    epochs=20,\n",
        "    validation_split=0.25,\n",
        "    batch_size=32,\n",
        "    callbacks=[stop_early],\n",
        "    verbose=1\n",
        ")\n",
        "\n",
        "# Evaluar en el conjunto de prueba\n",
        "results = model.evaluate(x_test, y_test, verbose=1)\n",
        "print('Test Loss: {}'.format(results[0]))\n",
        "print('Test Accuracy: {}'.format(results[1]))"
      ]
    },
    {
      "cell_type": "code",
      "execution_count": 21,
      "metadata": {
        "id": "QRq7S3RzoyVq",
        "colab": {
          "base_uri": "https://localhost:8080/",
          "height": 542
        },
        "outputId": "72e36ca0-2112-4084-fc92-d5ac1ce67eac"
      },
      "outputs": [
        {
          "output_type": "display_data",
          "data": {
            "text/plain": [
              "<Figure size 1600x600 with 2 Axes>"
            ],
            "image/png": "[encoded data removed]"
          },
          "metadata": {}
        }
      ],
      "source": [
        "# Visualización de resultados\n",
        "import matplotlib.pyplot as plt\n",
        "import pandas as pd\n",
        "\n",
        "def show_loss_accuracy_evolution(hist):\n",
        "    fig, (ax1, ax2) = plt.subplots(1, 2, figsize=(16, 6))\n",
        "    ax1.set_xlabel('Epoch')\n",
        "    ax1.set_ylabel('Binary Crossentropy')\n",
        "    ax1.plot(hist['epoch'], hist['loss'], label='Train Loss')\n",
        "    ax1.plot(hist['epoch'], hist['val_loss'], label='Val Loss')\n",
        "    ax1.grid()\n",
        "    ax1.legend()\n",
        "    ax2.set_xlabel('Epoch')\n",
        "    ax2.set_ylabel('Accuracy')\n",
        "    ax2.plot(hist['epoch'], hist['accuracy'], label='Train Accuracy')\n",
        "    ax2.plot(hist['epoch'], hist['val_accuracy'], label='Val Accuracy')\n",
        "    ax2.grid()\n",
        "    ax2.legend()\n",
        "    plt.show()\n",
        "\n",
        "hist = pd.DataFrame(history.history)\n",
        "hist['epoch'] = history.epoch\n",
        "show_loss_accuracy_evolution(hist)"
      ]
    },
    {
      "cell_type": "markdown",
      "metadata": {
        "id": "Voj6XQ4AoyVq"
      },
      "source": [
        "### Evaluate the model\n",
        "You need to obtain a Test Accuracy > 0.85. Try to get more than 0.9!"
      ]
    },
    {
      "cell_type": "code",
      "execution_count": 23,
      "metadata": {
        "id": "p-pySYAWoyVq",
        "colab": {
          "base_uri": "https://localhost:8080/"
        },
        "outputId": "c5cb40a2-ca96-45f6-caba-82be12f219d9"
      },
      "outputs": [
        {
          "output_type": "stream",
          "name": "stdout",
          "text": [
            "\u001b[1m782/782\u001b[0m \u001b[32m━━━━━━━━━━━━━━━━━━━━\u001b[0m\u001b[37m\u001b[0m \u001b[1m1s\u001b[0m 679us/step - accuracy: 0.8872 - loss: 0.3046\n",
            "Test Loss: 0.3025205135345459\n",
            "Test Accuracy: 0.8861200213432312\n"
          ]
        }
      ],
      "source": [
        "results = model.evaluate(x_test, y_test, verbose=1)\n",
        "print('Test Loss: {}'.format(results[0]))\n",
        "print('Test Accuracy: {}'.format(results[1]))"
      ]
    },
    {
      "cell_type": "code",
      "execution_count": 24,
      "metadata": {
        "id": "JTqmYdePoyVv",
        "colab": {
          "base_uri": "https://localhost:8080/"
        },
        "outputId": "a98b296b-4b19-44b8-c5fd-2376a823c00d"
      },
      "outputs": [
        {
          "output_type": "stream",
          "name": "stdout",
          "text": [
            "\u001b[1m782/782\u001b[0m \u001b[32m━━━━━━━━━━━━━━━━━━━━\u001b[0m\u001b[37m\u001b[0m \u001b[1m0s\u001b[0m 552us/step\n",
            "Predicted : 1, real : 0.0, lenght: 196\n",
            "<START> matt is a loyal communist in a <UNK> steel mill who works to <UNK> workers into the party even though this <UNK> himself from his son family and neighbors what makes this even more difficult is that is actually an fbi agent <UNK> as a communist in order to <UNK> information about party activities the party is trying to create a strike at the mill <UNK> the pro strike movement will lead the workers into a wave of propaganda also has to <UNK> with beautiful eve a party member and teacher at his <UNK> school who finds the fact that is a double agent when eve learns the ugly truth about the <UNK> real motives the <UNK> decide she must be <UNK> and must aid her without <UNK> himself the film should have plenty of suspense and double <UNK> but there is very little in this film but by today's standards very cheesy propaganda and little action or thrills <UNK> is very good in the main role but even he and the rest of the cast seem <UNK> few surprises here and how did this film receive a oscar <UNK> for best documentary rating 4\n",
            "\n",
            "Predicted : 0, real : 1.0, lenght: 141\n",
            "<START> warning spoilers br br five young people ignore the <UNK> of forest <UNK> george kennedy and <UNK> up to the <UNK> <UNK> mountains where they are <UNK> and <UNK> by a pair of huge <UNK> in <UNK> <UNK> <UNK> when only two are left warren and his girl <UNK> they resort back to their animal <UNK> to stay alive the film ends with <UNK> <UNK> half of her arm down one of the <UNK> <UNK> <UNK> him to death a very powerful if somewhat overrated <UNK> slasher flick thats effective use of lighting sound and photography make it a cut above the usual friday the 13th cash in lead by an attractive <UNK> cast especially <UNK> <UNK> where is she now and <UNK> henry this <UNK> companion piece to director jeff <UNK> <UNK> and blue sunshine <UNK> shouldn't be missed\n",
            "\n",
            "Predicted : 1, real : 0.0, lenght: 349\n",
            "<START> although the figures are higher in <UNK> to other areas of society i don't object to the extremely high <UNK> for many of today's <UNK> and <UNK> br br a <UNK> or brady all have deals either well with 8 figures or the low 9 area ray <UNK> and jerry <UNK> could actually become <UNK> from their shows huge <UNK> and <UNK> they currently demand even their cast members and all of the friends group reached near or over 7 figures per episode <UNK> <UNK> for one show could solve most people's financial problems and a week or <UNK> take care of many for life br br but all of these are based upon sound <UNK> demand <UNK> and the financial <UNK> they bring to their <UNK> and all perform their <UNK> <UNK> br br but then comes along someone like rachel ray who reaches a level of <UNK> far beyond any apparent level of talent or skill i find her <UNK> annoying and with a forced <UNK> that's as phony as the <UNK> 3 dollar bill br br a friend of mine is responsible for special <UNK> events and <UNK> plans for her <UNK> and its one of the major talent <UNK> has hundreds of <UNK> available from the 5 level to a handful who get and up per appearance this area includes <UNK> <UNK> <UNK> <UNK> robin williams and no kidding larry the cable guy br br there are a greater number in the 100 <UNK> <UNK> 000 range list included the likes of bill <UNK> steve martin and even cable guy <UNK> <UNK> jeff <UNK> br br this category includes <UNK> ray i suppose i have to admit there may be <UNK> demand for her talent and <UNK> to justify her talk show and there may be some out there <UNK> pay more than <UNK> first class air hotel <UNK> all <UNK> and <UNK> door to door for just a couple of hours of her <UNK> <UNK> at their <UNK> event br br i just can't figure how in the hell this could be possible\n",
            "\n",
            "Predicted : 0, real : 1.0, lenght: 422\n",
            "<START> this isn't a bad tv movie is short for which means <UNK> such were <UNK> due to the <UNK> demand for soldiers as the soviet union was taking heavy <UNK> all through out the war these <UNK> of <UNK> and <UNK> soldiers who were given the chance to clear their names by <UNK> themselves in combat they were looked down upon as <UNK> and were <UNK> easily during combat without much regret or much honor on the part of military they were often sent on suicide <UNK> and suffered extreme <UNK> the ones who <UNK> to fight were executed on sight needless to say their lives sucked br br there were some very nice performances by the cast especially by who played <UNK> who played and roman who played major however the series isn't really that <UNK> in part because it's too long it could've a lot <UNK> and as effective br br although it's about war has very mild violence and pretty much no gore it relies solely on the actors to make it work and after all it's a tv series so the producers didn't want to scare off the viewers and the <UNK> br br <UNK> the <UNK> of the soviet <UNK> and why so many men chose to fight the nazis instead of <UNK> them personally i'd rather be a <UNK> then a communist given the circumstances presented in the film one character explains that the <UNK> <UNK> his farm clean and his family died of <UNK> out of anger he burned it down which got him arrested for destroying property and he ended up in the <UNK> <UNK> as a criminal <UNK> on how his mother killed her <UNK> son to feed the rest of the family both men explained that they <UNK> for their <UNK> rather than the for the <UNK> br br the <UNK> <UNK> had one <UNK> <UNK> <UNK> who raped a girl killing his <UNK> in the <UNK> his other <UNK> to keep his mouth shut about both <UNK> and then <UNK> <UNK> when it came to fighting on top of all that the girl committed suicide due to shame i imagine if enough <UNK> watched this movie they'd pick up <UNK> and <UNK> on the streets calling for a <UNK> or an official <UNK> from the producers br br to say the least i'd recommend it to anyone with the slightest interest in the former soviet union or world war ii i don't think i wasted <UNK> minutes of my life\n",
            "\n",
            "Predicted : 1, real : 0.0, lenght: 566\n",
            "<START> this very <UNK> crafted film <UNK> the <UNK> which is ironic given the film's theme no one coming into this film knows what they are in for worse than that 3 4 of the way into the film no one still has any clue of what they're in for because everything up to that moment is a different movie br br as a front row fan of first two films easily <UNK> for the best 2 <UNK> films to date <UNK> with <UNK> and soldiers and now new york doll saw that at a screening had me wanting to see his film for a very long time i was there i wanted to believe believe that i'd see the next great <UNK> movie one that would hold the <UNK> <UNK> spot for a very long time but no three <UNK> in the film took the <UNK> of left turns and dragged me through something that i never wanted to go through he takes on the <UNK> <UNK> of all moral issues <UNK> both of them with little time or emotional <UNK> left to <UNK> <UNK> them but instead waves them both off with a <UNK> towards jesus as if that will make all things well instantly true it is that jesus saves don't <UNK> me of not believing that that's not problem br br is the film shot well indeed do the actors act they acted their pants off was the music appropriate all but whatever was over the closing credits everything about this film was superb except the story which was so <UNK> and wrong that all else doesn't matter i learned <UNK> from new york doll very decent show by the way the third act of the film was neither <UNK> nor pleasant nor faith <UNK> i know was <UNK> over <UNK> to make it so but i was so far <UNK> out of the movie at that point that nothing no thing could have brought me back the <UNK> <UNK> of dozens of details in the final minutes didn't help anyone who's been on a mission knows what i'm talking about especially anyone familiar with events surrounding someone being sent home from a mission early for moral and or psychological reasons it's as if a parallel universe suddenly <UNK> up where normal rules or <UNK> suddenly don't <UNK> br br there are a million things good about this film but they were created and only to be <UNK> upon and thrown away in a <UNK> jerk fit of <UNK> this will really get them <UNK> hence <UNK> i can only hope that when puts the <UNK> touches on his next film falling apparently that he <UNK> that film critics can only buy so many <UNK> and that it's the fans that pay the <UNK> that's why the first god's army was such an <UNK> success br br shock and awe approach proves that when it comes to the big issues he is in way over his head having neither the spiritual nor creative <UNK> nor business sense necessary to take them on i <UNK> learns his lesson and that years from now he and we all look back with a <UNK> and <UNK> that he pulled his head out of where the light doesn't shine and really successfully takes on those and other issues and changes the world forever because of it\n",
            "\n",
            "Predicted : 1, real : 0.0, lenght: 148\n",
            "<START> first of all i'd like to say that i really enjoyed this movie however that said i can't say that it was a good movie i went into the theatre with pretty low expectations something i've learned to do i'm glad i did because the plot and development wasn't stellar the jokes were low grade humor but i was in the right <UNK> to enjoy them br br i wasn't the only one in fact the entire theatre was laughing out loud i didn't hear anyone complain after the movie came to a close i even saw one guy fall out of his chair laughing but again i have to warn you <UNK> boy is not a top quality film it is a funny albeit low <UNK> movie and if you go with the right <UNK> you'll really enjoy it oh and don't take kids to it\n",
            "\n",
            "Predicted : 0, real : 1.0, lenght: 131\n",
            "<START> when <UNK> <UNK> character says i feel like i'm in someone <UNK> dream and they're going to be ashamed when they wake up she is <UNK> not only to being an <UNK> player in <UNK> war games she is <UNK> to being an ignorant <UNK> in life itself at the film's end when she says that she had a dream that she had a child and she was trying to take care of it but she forgot something else the <UNK> is that she has forgotten what she has learned in the war she's just survived that like her own mother before her she will be unable to pass on any <UNK> lessons to her own child and therefore the <UNK> of the shame of <UNK> will continue ad <UNK>\n",
            "\n",
            "Predicted : 1, real : 0.0, lenght: 147\n",
            "<START> if you want to see a horror film which is horrible and in very bad taste this is definitely the film to view this films starts out with two young teenagers getting wild ideas about going into a <UNK> room and going out on blind <UNK> and quite possibly they will wind up like a little <UNK> to the slaughter house plenty of blood gore nudity <UNK> and all kinds of blood <UNK> <UNK> and things you will never dream a person is capable of performing on men and women if you like <UNK> well this kind of <UNK> deals with heavy heavy <UNK> and plenty of besides lots of <UNK> and <UNK> to <UNK> up things on the human body i really hope that this film does not give some sick person in this world the idea to act out these horrors in real life\n",
            "\n",
            "Predicted : 1, real : 0.0, lenght: 171\n",
            "<START> set in the mid <UNK> when the british is <UNK> new <UNK> <UNK> <UNK> to <UNK> <UNK> the daughter of a british army <UNK> sarah <UNK> <UNK> falls in love with the son of one of the <UNK> the is an <UNK> <UNK> and a dangerous people for the <UNK> to deal with by the time <UNK> child which she calls boy is born his father is dead by the age of six boy is kidnapped by his father's family and sarah will begin her search for him with a man <UNK> sutherland who is deeply in love with her br br two time oscar <UNK> <UNK> is definitely the star of this movie sutherland is a total waste also starring are cliff curtis stephen <UNK> <UNK> and david this movie is rated r for some sexual content and violent battle scenes i find the title river queen very <UNK> and the dvd cover with sutherland only and making you believe he is the leading star should be a crime\n",
            "\n",
            "Predicted : 0, real : 1.0, lenght: 117\n",
            "<START> it starts a little slow but give it a chance in the spirit of the ship in the arm and the pink sub this movie is about a not so <UNK> group engaged in not so <UNK> methods to <UNK> everyone rob <UNK> is priceless as a <UNK> that takes himself way too seriously which results in a failed <UNK> attempt and <UNK> crew makes him walk the <UNK> in contrast <UNK> <UNK> similar to cary grant does not take anything to serious except the job this movie is more about lines than plot from the up <UNK> in <UNK> <UNK> to the whale <UNK> their antics took me by surprise and i laughed out loud\n",
            "\n"
          ]
        }
      ],
      "source": [
        "def show_errors(x_test, model, labels, int2word, n_samples=10):\n",
        "    preds = 1.0 * (model.predict(x_test).flatten() > 0.5)\n",
        "    bad_pred_inds = np.where(preds != labels)[0]\n",
        "    n_samples = min(len(bad_pred_inds), n_samples)\n",
        "    samples_inds = np.random.choice(bad_pred_inds, n_samples)\n",
        "    for ind in samples_inds:\n",
        "        print('Predicted : {0}, real : {1}, lenght: {2}'.format(\n",
        "            int(preds[ind]), labels[ind], len(test_data[ind])))\n",
        "        print(get_words(test_data[ind], int2word))\n",
        "        print()\n",
        "    return\n",
        "\n",
        "show_errors(x_test, model, y_test, int2word, n_samples=10)"
      ]
    },
    {
      "cell_type": "markdown",
      "metadata": {
        "id": "kfQSvC2QoyVv"
      },
      "source": [
        "### Making predictioins with new data"
      ]
    },
    {
      "cell_type": "code",
      "execution_count": 25,
      "metadata": {
        "id": "k34z0qmwoyVv",
        "colab": {
          "base_uri": "https://localhost:8080/"
        },
        "outputId": "09105164-a8d2-43dd-e07b-5fc193c2df1e"
      },
      "outputs": [
        {
          "output_type": "stream",
          "name": "stdout",
          "text": [
            "\u001b[1m1/1\u001b[0m \u001b[32m━━━━━━━━━━━━━━━━━━━━\u001b[0m\u001b[37m\u001b[0m \u001b[1m0s\u001b[0m 20ms/step\n",
            "\n",
            "the film was really bad and i am very disappointed\n",
            "Sentiment:  0.46\n",
            "\n",
            "The film was very funny entertaining and good we had a great time . brilliant film\n",
            "Sentiment:  0.52\n",
            "\n",
            "this film was just brilliant\n",
            "Sentiment:  0.5\n",
            "\n",
            "the movie is not bad\n",
            "Sentiment:  0.45\n",
            "\n",
            "the movie is not bad I like it\n",
            "Sentiment:  0.47\n"
          ]
        }
      ],
      "source": [
        "reviews = ['the film was really bad and i am very disappointed',\n",
        "           'The film was very funny entertaining and good we had a great time . brilliant film',\n",
        "           'this film was just brilliant',\n",
        "           'the movie is not bad',\n",
        "           'the movie is not bad I like it'\n",
        "]\n",
        "sequences = [vectorize_text_sentence(review.lower(), word2int)\n",
        "             for review in reviews]\n",
        "\n",
        "x_pred = vectorize_sequences(sequences, num_words=num_words)\n",
        "predictions = model.predict(x_pred)\n",
        "for review, pred in zip(reviews, predictions.flatten()):\n",
        "    print()\n",
        "    print(review)\n",
        "    print('Sentiment: ', np.round(pred, 2))"
      ]
    },
    {
      "cell_type": "code",
      "execution_count": 26,
      "metadata": {
        "id": "MunmWmoVoyVw",
        "colab": {
          "base_uri": "https://localhost:8080/"
        },
        "outputId": "ac650adc-4a1b-42fe-d662-6ac6f6c83479"
      },
      "outputs": [
        {
          "output_type": "stream",
          "name": "stdout",
          "text": [
            "\u001b[1m1/1\u001b[0m \u001b[32m━━━━━━━━━━━━━━━━━━━━\u001b[0m\u001b[37m\u001b[0m \u001b[1m0s\u001b[0m 19ms/step\n"
          ]
        },
        {
          "output_type": "execute_result",
          "data": {
            "text/plain": [
              "array([[0.],\n",
              "       [1.],\n",
              "       [0.],\n",
              "       [0.],\n",
              "       [0.]])"
            ]
          },
          "metadata": {},
          "execution_count": 26
        }
      ],
      "source": [
        "1.0*(model.predict(x_pred) > 0.5)"
      ]
    },
    {
      "cell_type": "markdown",
      "metadata": {
        "id": "HI5Odf8moyV1"
      },
      "source": [
        "### Question 1: Repeat the process with unnormalized bag of words, compare results"
      ]
    },
    {
      "cell_type": "code",
      "execution_count": 27,
      "metadata": {
        "id": "-u9TjIweoyV1",
        "colab": {
          "base_uri": "https://localhost:8080/"
        },
        "outputId": "149df9d7-8941-4690-e170-35fe89c72ab5"
      },
      "outputs": [
        {
          "output_type": "execute_result",
          "data": {
            "text/plain": [
              "((25000, 5003), (25000,))"
            ]
          },
          "metadata": {},
          "execution_count": 27
        }
      ],
      "source": [
        "x_train = vectorize_sequences(train_data, num_words=num_words, norm=False)\n",
        "x_test = vectorize_sequences(test_data, num_words=num_words, norm=False)\n",
        "y_train =np.asarray(train_labels).astype('float32')\n",
        "y_test = np.asarray(test_labels).astype('float32')\n",
        "x_train.shape, y_train.shape"
      ]
    },
    {
      "cell_type": "code",
      "execution_count": null,
      "metadata": {
        "id": "ZGHYG7m6oyV1"
      },
      "outputs": [],
      "source": [
        "model = ..."
      ]
    },
    {
      "cell_type": "code",
      "execution_count": null,
      "metadata": {
        "id": "ZgeMc6KooyV1"
      },
      "outputs": [],
      "source": [
        "model.compile(\n",
        "    optimizer='adam',\n",
        "    loss='binary_crossentropy',\n",
        "    metrics=['accuracy']\n",
        ")\n",
        "history = model.fit(x_train, y_train, validation_split=0.25, epochs= 10, batch_size=32)\n",
        "show_loss_accuracy_evolution(hist)\n",
        "results = model.evaluate(x_test, y_test, verbose=1)\n",
        "print('Test Loss: {}'.format(results[0]))\n",
        "print('Test Accuracy: {}'.format(results[1]))"
      ]
    },
    {
      "cell_type": "markdown",
      "metadata": {
        "id": "gatZnsNRoyV6"
      },
      "source": [
        "### Question 2: What happens if you reduce the size of the vocabulary `num_words`, compare results"
      ]
    },
    {
      "cell_type": "code",
      "execution_count": null,
      "metadata": {
        "id": "KmxYWOwjoyV6"
      },
      "outputs": [],
      "source": [
        "num_words = ...\n",
        "(train_data, train_labels), (test_data, test_labels) = imdb.load_data(num_words=num_words)\n",
        "print(train_data[0])\n",
        "\n",
        "word2int = imdb.get_word_index()\n",
        "word2int = {w: i+3 for w, i in word2int.items()}\n",
        "word2int[\"<PAD>\"] = 0\n",
        "word2int[\"<START>\"] = 1\n",
        "word2int[\"<UNK>\"] = 2\n",
        "word2int[\"<UNUSED>\"] = 3\n",
        "int2word = {i: w for w, i in word2int.items()}\n",
        "num_words = num_words+3\n",
        "\n",
        "x_train = vectorize_sequences(train_data, num_words=num_words)\n",
        "x_test = vectorize_sequences(test_data, num_words=num_words)\n",
        "y_train =np.asarray(train_labels).astype('float32')\n",
        "y_test = np.asarray(test_labels).astype('float32')\n",
        "x_train.shape, y_train.shape"
      ]
    },
    {
      "cell_type": "code",
      "execution_count": null,
      "metadata": {
        "id": "ntKNeVI5oyV6"
      },
      "outputs": [],
      "source": [
        "model = ..."
      ]
    },
    {
      "cell_type": "code",
      "execution_count": null,
      "metadata": {
        "id": "WoVW5mb9oyV7"
      },
      "outputs": [],
      "source": [
        "model.compile(\n",
        "    optimizer='adam',\n",
        "    loss='binary_crossentropy',\n",
        "    metrics=['accuracy']\n",
        ")\n",
        "history = model.fit(x_train, y_train, validation_split=0.25, epochs= 10, batch_size=32)\n",
        "show_loss_accuracy_evolution(hist)\n",
        "results = model.evaluate(x_test, y_test, verbose=1)\n",
        "print('Test Loss: {}'.format(results[0]))\n",
        "print('Test Accuracy: {}'.format(results[1]))"
      ]
    },
    {
      "cell_type": "code",
      "execution_count": null,
      "metadata": {
        "id": "QfHz2YoVoyV_"
      },
      "outputs": [],
      "source": [
        "reviews = [\n",
        "    'the film was really bad and i am very disappointed',\n",
        "    'The film was very funny entertaining and good we had a great time . brilliant film',\n",
        "    'this film was just brilliant', 'the movie is not bad',\n",
        "    'the movie is not bad I like it'\n",
        "]\n",
        "sequences = [\n",
        "    vectorize_text_sentence(review.lower(), word2int) for review in reviews\n",
        "]\n",
        "\n",
        "x_pred = vectorize_sequences(sequences, num_words=num_words)\n",
        "predictions = model.predict(x_pred)\n",
        "for review, pred in zip(reviews, predictions.flatten()):\n",
        "    print()\n",
        "    print(review)\n",
        "    print('Sentiment: ', np.round(pred, 2))"
      ]
    },
    {
      "cell_type": "markdown",
      "metadata": {
        "id": "RijAX9yToyV_"
      },
      "source": [
        "### Compare with other ML algorithms"
      ]
    },
    {
      "cell_type": "code",
      "execution_count": null,
      "metadata": {
        "id": "HL70avpgoyV_"
      },
      "outputs": [],
      "source": [
        "from sklearn.linear_model import LogisticRegression\n",
        "clr = LogisticRegression()\n",
        "clr.fit(x_train, y_train)\n",
        "val_acc = clr.score(x_test, y_test)\n",
        "print('Test Accuracy: {}'.format(val_acc))"
      ]
    },
    {
      "cell_type": "code",
      "execution_count": null,
      "metadata": {
        "id": "YYQhePfIoyV_"
      },
      "outputs": [],
      "source": [
        "from sklearn.ensemble import RandomForestClassifier\n",
        "rfc = RandomForestClassifier(max_depth=5, n_jobs=-1)\n",
        "rfc.fit(x_train, y_train)\n",
        "val_acc = rfc.score(x_test, y_test)\n",
        "print('Test Accuracy: {}'.format(val_acc))"
      ]
    },
    {
      "cell_type": "code",
      "execution_count": null,
      "metadata": {
        "id": "5ZwyE_weoyWA"
      },
      "outputs": [],
      "source": [
        "from sklearn.ensemble import RandomForestClassifier\n",
        "rfc = RandomForestClassifier(n_jobs=-1)\n",
        "rfc.fit(x_train, y_train)\n",
        "val_acc = rfc.score(x_test, y_test)\n",
        "print('Test Accuracy: {}'.format(val_acc))"
      ]
    },
    {
      "cell_type": "code",
      "execution_count": null,
      "metadata": {
        "id": "h_a9yItMoyWA"
      },
      "outputs": [],
      "source": [
        "reviews = []\n",
        "# training reviews\n",
        "for ind in range(len(train_data)):\n",
        "    sentence = train_data[ind]\n",
        "    sentence_text = get_words(train_data[ind], int2word)\n",
        "    reviews.append(sentence_text)\n",
        "print('First training review: ', reviews[0])"
      ]
    }
  ],
  "metadata": {
    "kernelspec": {
      "display_name": "Python 3",
      "name": "python3"
    },
    "language_info": {
      "codemirror_mode": {
        "name": "ipython",
        "version": 3
      },
      "file_extension": ".py",
      "mimetype": "text/x-python",
      "name": "python",
      "nbconvert_exporter": "python",
      "pygments_lexer": "ipython3",
      "version": "3.9.15"
    },
    "latex_envs": {
      "LaTeX_envs_menu_present": true,
      "autoclose": false,
      "autocomplete": true,
      "bibliofile": "biblio.bib",
      "cite_by": "apalike",
      "current_citInitial": 1,
      "eqLabelWithNumbers": true,
      "eqNumInitial": 1,
      "hotkeys": {
        "equation": "Ctrl-E",
        "itemize": "Ctrl-I"
      },
      "labels_anchors": false,
      "latex_user_defs": false,
      "report_style_numbering": false,
      "user_envs_cfg": false
    },
    "toc": {
      "base_numbering": 1,
      "nav_menu": {},
      "number_sections": true,
      "sideBar": true,
      "skip_h1_title": false,
      "title_cell": "Table of Contents",
      "title_sidebar": "Contents",
      "toc_cell": false,
      "toc_position": {},
      "toc_section_display": true,
      "toc_window_display": false
    },
    "colab": {
      "provenance": [],
      "gpuType": "T4",
      "include_colab_link": true
    },
    "accelerator": "GPU"
  },
  "nbformat": 4,
  "nbformat_minor": 0
}